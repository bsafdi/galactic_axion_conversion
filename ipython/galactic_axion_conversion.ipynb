{
 "cells": [
  {
   "cell_type": "code",
   "execution_count": 5,
   "metadata": {},
   "outputs": [
    {
     "name": "stdout",
     "output_type": "stream",
     "text": [
      "The autoreload extension is already loaded. To reload it, use:\n",
      "  %reload_ext autoreload\n",
      "starting the python script!\n"
     ]
    },
    {
     "ename": "TabError",
     "evalue": "inconsistent use of tabs and spaces in indentation (gmf.py, line 63)",
     "output_type": "error",
     "traceback": [
      "Traceback \u001b[0;36m(most recent call last)\u001b[0m:\n",
      "  File \u001b[1;32m\"/usr/common/software/python/3.8-anaconda-2020.11/lib/python3.8/site-packages/IPython/core/interactiveshell.py\"\u001b[0m, line \u001b[1;32m3418\u001b[0m, in \u001b[1;35mrun_code\u001b[0m\n    exec(code_obj, self.user_global_ns, self.user_ns)\n",
      "\u001b[0;36m  File \u001b[0;32m\"<ipython-input-5-4bc0e163c314>\"\u001b[0;36m, line \u001b[0;32m44\u001b[0;36m, in \u001b[0;35m<module>\u001b[0;36m\u001b[0m\n\u001b[0;31m    import gmf\u001b[0m\n",
      "\u001b[0;36m  File \u001b[0;32m\"/global/cfs/cdirs/m3166/bsafdi/gmf/gmf.py\"\u001b[0;36m, line \u001b[0;32m63\u001b[0m\n\u001b[0;31m    \"\"\"\u001b[0m\n\u001b[0m       ^\u001b[0m\n\u001b[0;31mTabError\u001b[0m\u001b[0;31m:\u001b[0m inconsistent use of tabs and spaces in indentation\n"
     ]
    }
   ],
   "source": [
    "%load_ext autoreload\n",
    "%autoreload 2\n",
    "\n",
    "\n",
    "import sys, os, pickle, h5py\n",
    "import numpy as np\n",
    "from scipy.stats import norm\n",
    "from scipy import stats, optimize, ndimage, signal\n",
    "\n",
    "import matplotlib as mpl\n",
    "import matplotlib.pyplot as plt\n",
    "from matplotlib.colors import LogNorm\n",
    "\n",
    "\n",
    "from astropy import units as u\n",
    "from astropy.coordinates import SkyCoord\n",
    "from IPython.display import clear_output\n",
    "import copy\n",
    "\n",
    "##############\n",
    "#For plotting\n",
    "import matplotlib.cm as cm\n",
    "\n",
    "from matplotlib import rc\n",
    "from matplotlib import rcParams\n",
    "rc('font', **{'family': 'serif', 'serif': ['Computer Modern']})\n",
    "rcParams['text.usetex'] = True\n",
    "#rcParams['text.latex.unicode'] = True\n",
    "#rcParams['text.fontsize'] = 18\n",
    "\n",
    "\n",
    "print(\"starting the python script!\")\n",
    "\n",
    "########################\n",
    "kev_to_erg = 1.60218e-9\n",
    "\n",
    "os.sys.path.append(\"../python\")\n",
    "#import plotting\n",
    "import copy\n",
    "from scipy.interpolate import interp1d\n",
    "\n",
    "from scipy.optimize import minimize\n",
    "sys.path.append(\"/global/cfs/cdirs/m3166/bsafdi/gmf\")\n",
    "import gmf\n",
    "#data_dir = \"/nfs/turbo/bsafdi/bsafdi/github/SSCaxion/data/\""
   ]
  },
  {
   "cell_type": "code",
   "execution_count": null,
   "metadata": {},
   "outputs": [],
   "source": []
  }
 ],
 "metadata": {
  "kernelspec": {
   "display_name": "MyEnv3",
   "language": "python",
   "name": "myenv2"
  },
  "language_info": {
   "codemirror_mode": {
    "name": "ipython",
    "version": 3
   },
   "file_extension": ".py",
   "mimetype": "text/x-python",
   "name": "python",
   "nbconvert_exporter": "python",
   "pygments_lexer": "ipython3",
   "version": "3.8.5"
  }
 },
 "nbformat": 4,
 "nbformat_minor": 4
}
